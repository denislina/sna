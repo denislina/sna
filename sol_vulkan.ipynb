{
 "cells": [
  {
   "cell_type": "code",
   "execution_count": 1,
   "metadata": {
    "collapsed": false
   },
   "outputs": [
    {
     "data": {
      "text/plain": [
       "0"
      ]
     },
     "execution_count": 1,
     "metadata": {},
     "output_type": "execute_result"
    }
   ],
   "source": [
    "import vk\n",
    "import numpy as np\n",
    "import sklearn \n",
    "import statistics as stat\n",
    "import math\n",
    "import pandas as pd\n",
    "import matplotlib.pyplot as plt\n",
    "plt.style.use('ggplot')\n",
    "from collections import Counter\n",
    "import gc\n",
    "import string\n",
    "import re\n",
    "import nltk\n",
    "from nltk.corpus import stopwords\n",
    "from nltk.stem.snowball import SnowballStemmer\n",
    "gc.collect()"
   ]
  },
  {
   "cell_type": "code",
   "execution_count": 2,
   "metadata": {
    "collapsed": false
   },
   "outputs": [],
   "source": [
    "session = vk.Session()\n",
    "api = vk.API(session)\n",
    "api.users.get(user_ids=1)\n",
    "my_id = '55423942'\n",
    "f_interest = 'sex, bdate, city, universities, schools, interests'\n",
    "\n",
    "#'verified, sex, bdate, city,country, home_town, online, lists, domain, has_mobile, contacts, \n",
    "#site, education, universities, schools, status, last_seen, followers_count, occupation, nickname, relatives, relation, personal, connections, exports, wall_comments, activities, interests, music, movies, tv, books, games, about, quotes, can_post, can_see_all_posts, can_see_audio, can_write_private_message, can_send_friend_request, is_favorite, is_hidden_from_feed, timezone, screen_name, maiden_name,  is_friend, friend_status, career, military, blacklisted, blacklisted_by_me'"
   ]
  },
  {
   "cell_type": "markdown",
   "metadata": {},
   "source": [
    "## Предсказание даты рождения"
   ]
  },
  {
   "cell_type": "markdown",
   "metadata": {},
   "source": [
    "#### Извлечение года рождения, если он есть в информации о пользователе"
   ]
  },
  {
   "cell_type": "code",
   "execution_count": 3,
   "metadata": {
    "collapsed": false
   },
   "outputs": [],
   "source": [
    "def extract_data(data):\n",
    "    if 'deactivated' in data:\n",
    "        return 0\n",
    "    if 'bdate' in data:\n",
    "        res_year = data['bdate']\n",
    "        res_year = res_year.split('.')\n",
    "        if len(res_year) >= 3:\n",
    "            res_year = int(res_year[2])           \n",
    "            if res_year > 1940: return res_year\n",
    "    return 0        "
   ]
  },
  {
   "cell_type": "markdown",
   "metadata": {},
   "source": [
    "#### Извлечение числа и месяца рождения."
   ]
  },
  {
   "cell_type": "markdown",
   "metadata": {},
   "source": [
    "Обычно их пользователь указывает сам, в отличии от года. Также была идея определять по поздравлениям на стене, но обычно, если у пользователя открыта стена, то на ней указаны дд:мм"
   ]
  },
  {
   "cell_type": "code",
   "execution_count": 4,
   "metadata": {
    "collapsed": true
   },
   "outputs": [],
   "source": [
    "def extract_data_1_2(data):\n",
    "    if 'deactivated' in data:\n",
    "        return 0\n",
    "    if 'bdate' in data:\n",
    "        res_year = data['bdate']\n",
    "        res_year = res_year.split('.')\n",
    "        res_d = res_year[0]\n",
    "        res_m = res_year[1]\n",
    "        return (res_d + '.' + res_m)\n",
    "    return 0        "
   ]
  },
  {
   "cell_type": "markdown",
   "metadata": {},
   "source": [
    "####  Предсказание года рождения при помощи медианы и моды годов рождения друзей"
   ]
  },
  {
   "cell_type": "code",
   "execution_count": 5,
   "metadata": {
    "collapsed": false
   },
   "outputs": [],
   "source": [
    "def predict_bdate (unknow_id):\n",
    "    count = 0\n",
    "    feature = []\n",
    "    res = api.users.get(user_id = unknow_id, fields = f_interest)    \n",
    "    if extract_data_1_2(res[0]): print(\"bdate:\", extract_data_1_2(res[0]))\n",
    "    res_year = extract_data(res[0])\n",
    "    if res_year: \n",
    "        print ('year:', res_year)\n",
    "        return \n",
    "   \n",
    "    friends = api.friends.get(user_id = unknow_id, order = 'hist', fields = f_interest)\n",
    "    bdata = []\n",
    "    year = []\n",
    "    for i in range(0, len(friends)):\n",
    "        y = extract_data(friends[i])\n",
    "        if y: year.append(y)      \n",
    "    year_f = min(stat.median(year), Counter(year).most_common(1)[0][0])\n",
    "    year_t = max(stat.median(year), Counter(year).most_common(1)[0][0])\n",
    "    \n",
    "    print (\"year from\", year_f - 1, \"to\",year_t + 1)\n",
    "    return (year_f + year_t)/2"
   ]
  },
  {
   "cell_type": "code",
   "execution_count": 6,
   "metadata": {
    "collapsed": false
   },
   "outputs": [
    {
     "name": "stdout",
     "output_type": "stream",
     "text": [
      "bdate: 1.10\n",
      "year from 1992.0 to 1995\n"
     ]
    },
    {
     "data": {
      "text/plain": [
       "1993.5"
      ]
     },
     "execution_count": 6,
     "metadata": {},
     "output_type": "execute_result"
    }
   ],
   "source": [
    "predict_bdate('86975991')"
   ]
  },
  {
   "cell_type": "markdown",
   "metadata": {},
   "source": [
    "#### Предсказание года рождения на основе таких признаков, как:\n",
    "среднее, медиана, мода, минимальный возраст и максимальный возраст среди друзей, количество друзей"
   ]
  },
  {
   "cell_type": "code",
   "execution_count": 263,
   "metadata": {
    "collapsed": true
   },
   "outputs": [],
   "source": [
    "from sklearn.ensemble import RandomForestRegressor\n",
    "rgr = RandomForestRegressor(n_estimators=1000, n_jobs=-1)"
   ]
  },
  {
   "cell_type": "code",
   "execution_count": 267,
   "metadata": {
    "collapsed": false
   },
   "outputs": [],
   "source": [
    "def predict_bdate_1 (unknow_id):\n",
    "    count = 0\n",
    "    feature = []\n",
    "    res_year = -1\n",
    "    res = api.users.get(user_id = unknow_id, fields = f_interest)\n",
    "    if extract_data_1_2(res[0]): print(\"bdate:\", extract_data_1_2(res[0]))\n",
    "    us_year = extract_data(res[0])\n",
    "    if us_year:\n",
    "        print (\"year:\", us_year)\n",
    "        return\n",
    "    data = []\n",
    "    friends = api.friends.get(user_id = unknow_id, order = 'hist', fields = f_interest)\n",
    "    for i in range(0, len(friends)):\n",
    "        if extract_data(friends[i]):\n",
    "            year = []\n",
    "            fr_friends = api.friends.get(user_id = friends[i]['user_id'], order = 'hist', fields = f_interest)\n",
    "            for j in range(0, len(fr_friends)):\n",
    "                y = extract_data(fr_friends[j]) \n",
    "                if y:\n",
    "                    year.append(y)\n",
    "            if(len(year) > 0):\n",
    "                data.append(extract_data(friends[i]))\n",
    "                data.append(stat.mean(year))\n",
    "                data.append(stat.median(year))\n",
    "                data.append(Counter(year).most_common(1)[0][0])\n",
    "                data.append(min(year))\n",
    "                data.append(max(year))\n",
    "                data.append(len(fr_friends))\n",
    "                #api.account.getAppPermissions(access_token = my_access_token, user_id = unknow_id)\n",
    "                #groups = api.groups.get(access_token = my_access_token, user_id = unknow_id, extended = 1)\n",
    "                #data.append(len(groups))\n",
    "        #if i % 10 == 0: print(i)\n",
    "    data = np.array(data).reshape((-1, 7))\n",
    "    #print(data)\n",
    "    X_train = data[:, 1:]\n",
    "    y_train = data[:, 0]\n",
    "    X_test = []\n",
    "    X_test.append(stat.mean(y_train))\n",
    "    X_test.append(stat.median(y_train))\n",
    "    X_test.append(Counter(y_train).most_common(1)[0][0])\n",
    "    X_test.append(min(y_train))\n",
    "    X_test.append(max(y_train))\n",
    "    X_test.append(len(friends))\n",
    "    X_test = np.array(X_test).reshape((-1, 6))\n",
    "    rgr.fit(X_train, y_train)\n",
    "    year = rgr.predict(X_test)\n",
    "    \n",
    "    print (\"approximate year:\", year[0])"
   ]
  },
  {
   "cell_type": "code",
   "execution_count": 268,
   "metadata": {
    "collapsed": false
   },
   "outputs": [
    {
     "name": "stdout",
     "output_type": "stream",
     "text": [
      "bdate: 1.10\n",
      "approximate year: 1990.931\n"
     ]
    }
   ],
   "source": [
    "predict_bdate_1('86975991')\n"
   ]
  },
  {
   "cell_type": "markdown",
   "metadata": {},
   "source": [
    "## Предсказание города, в котором проживает пользователь"
   ]
  },
  {
   "cell_type": "markdown",
   "metadata": {},
   "source": [
    "Будем возвращать самый часто встречаемый город среди друзей пользователя. \n",
    "\n",
    "Код будет выдавать город, из которого больше всего знакомств у пользователя. Город в виде номера"
   ]
  },
  {
   "cell_type": "code",
   "execution_count": 302,
   "metadata": {
    "collapsed": false
   },
   "outputs": [],
   "source": [
    "def predict_city (unknow_id):\n",
    "    city = []\n",
    "    res = api.users.get(user_id = unknow_id, fields = f_interest)\n",
    "    if 'deactivated' in res[0]:\n",
    "        return 0\n",
    "    friends = api.friends.get(user_id = unknow_id, order = 'hist', fields = f_interest)\n",
    "    if 'city' in res[0]:\n",
    "        res_city = res[0]['city']\n",
    "        return res_city\n",
    "    for i in range(0, len(friends)):\n",
    "        city.append(friends[i].get('city', 100500))\n",
    "    city = [x for x in city if x != 100500 and x!= 0]\n",
    "    res = Counter(city).most_common(2)\n",
    "    #res.insert(0, (res_city, 0))\n",
    "    return res"
   ]
  },
  {
   "cell_type": "code",
   "execution_count": 299,
   "metadata": {
    "collapsed": false
   },
   "outputs": [
    {
     "data": {
      "text/plain": [
       "1"
      ]
     },
     "execution_count": 299,
     "metadata": {},
     "output_type": "execute_result"
    }
   ],
   "source": [
    "predict_city(my_id)"
   ]
  },
  {
   "cell_type": "markdown",
   "metadata": {},
   "source": [
    "## Предсказание пола пользователя"
   ]
  },
  {
   "cell_type": "markdown",
   "metadata": {},
   "source": [
    "### Способ_1"
   ]
  },
  {
   "cell_type": "markdown",
   "metadata": {},
   "source": [
    "Предсказание по соотношению полов в каждом из сообществ, на которые подписан пользователь"
   ]
  },
  {
   "cell_type": "code",
   "execution_count": 270,
   "metadata": {
    "collapsed": false
   },
   "outputs": [],
   "source": [
    "def predict_sex (unknow_id):\n",
    "    res = api.users.get(user_id = unknow_id, fields = f_interest)\n",
    "    if 'deactivated' in res[0]:\n",
    "        return 0\n",
    "    if 'sex' in res[0]:\n",
    "        s = res[0]['sex']\n",
    "        if s == 1: return 'woman'\n",
    "        else: return 'man'\n",
    "    id_groups = api.users.getSubscriptions(user_id = unknow_id )['groups']['items']\n",
    "    res = []\n",
    "    err = 0\n",
    "    w = 0\n",
    "    m = 0\n",
    "    for i in id_groups:\n",
    "        w0 = 0\n",
    "        m0 = 0\n",
    "        people = api.groups.getMembers(group_id = i, fields = f_interest)['users']\n",
    "        for j in range(0, len(people)):\n",
    "            if 'deactivated' in people[j]: err += 1\n",
    "            else:\n",
    "                if 'sex' in people[j]:\n",
    "                    s = people[j]['sex']\n",
    "                    if(s == 1): w0 += 1\n",
    "                    else: m0 += 1\n",
    "        w += w0 / (m0 + w0)\n",
    "        m += m0/(m0 + w0)\n",
    "        #print(w, m)\n",
    "    if(w > m): return 'woman'\n",
    "    else: return 'man'"
   ]
  },
  {
   "cell_type": "markdown",
   "metadata": {},
   "source": [
    "### Способ_2"
   ]
  },
  {
   "cell_type": "markdown",
   "metadata": {},
   "source": [
    "Предсказание по поиску имени в Вк и выводу наиболее встречаемого пола. Работает быстрее и не хуже."
   ]
  },
  {
   "cell_type": "code",
   "execution_count": 271,
   "metadata": {
    "collapsed": false
   },
   "outputs": [],
   "source": [
    "def predict_sex_find (unknow_id):\n",
    "    w = 0\n",
    "    m = 0\n",
    "    err = 0\n",
    "    res = api.users.get(user_id = unknow_id, fields = f_interest)\n",
    "    if 'deactivated' in res[0]:\n",
    "        return 0\n",
    "    first_name = res[0]['first_name']\n",
    "    people_find = api.users.search(access_token = my_access_token,\n",
    "                                   q = first_name, sort = 0, count = 100, fields = 'sex, city')\n",
    "    \n",
    "    l = len(people_find) - 1\n",
    "    for i  in range(1, len(people_find)):\n",
    "        if not 'deactivated' in people_find[i] and 'sex' in people_find[i]:\n",
    "            if people_find[i]['sex'] == 1: w += 1\n",
    "            else: m += 1\n",
    "    if w > m: return 'woman'\n",
    "    else: return 'man'"
   ]
  },
  {
   "cell_type": "markdown",
   "metadata": {},
   "source": [
    "## Предсказание интересов."
   ]
  },
  {
   "cell_type": "markdown",
   "metadata": {},
   "source": [
    "Будем извлекать интересы друзей и слова из сообществ, на которые подписан пользователь"
   ]
  },
  {
   "cell_type": "code",
   "execution_count": 119,
   "metadata": {
    "collapsed": false
   },
   "outputs": [],
   "source": [
    "def predict_interests(unknow_id):\n",
    "    friends = api.friends.get(user_id = unknow_id, order = 'hist', fields = 'interests')\n",
    "    s0 = []\n",
    "    stop_words = stopwords.words('russian')\n",
    "    stemmer = SnowballStemmer(\"russian\")\n",
    "    res = api.users.get(user_id = unknow_id, fields = f_interest)\n",
    "    s_user = []\n",
    "    if 'interests' in res[0]:\n",
    "        s = res[0]['interests']        \n",
    "        s = friends[i]['interests']\n",
    "        s = s.lower()\n",
    "        s = re.split('\\W+', s)\n",
    "        if len(s) > 0: s_user += s\n",
    "    tokens = [i for i in s_user if i not in stop_words and i and i not in string.digits]\n",
    "    tokens_user = [stemmer.stem(i) for i in tokens]\n",
    "    \n",
    "    for i in range(0, len(friends)):\n",
    "        if 'interests' in friends[i]:\n",
    "            s = friends[i]['interests']\n",
    "            s = s.lower()\n",
    "            s = re.split('\\W+', s)\n",
    "            if len(s) > 0: s0 += s\n",
    "            #print(s)\n",
    "            #res_year = res_year.split('.')\n",
    "    \n",
    "    \n",
    "    tokens = [i for i in s0 if i not in stop_words and i and i not in string.digits]\n",
    "    tokens_fr = [stemmer.stem(i) for i in tokens]\n",
    "    \n",
    "    api.account.getAppPermissions(access_token = my_access_token, user_id = unknow_id)\n",
    "    groups = api.groups.get(access_token = my_access_token, user_id = unknow_id, extended = 1)\n",
    "    name = []\n",
    "    for i in range(1, len(groups)):\n",
    "        s = groups[i]['name'].lower()\n",
    "        s = re.split('\\W+', s)\n",
    "        name += s\n",
    "    tokens = [i for i in name if i not in stop_words and i and i not in string.digits]\n",
    "    tokens_gr = [stemmer.stem(i) for i in tokens]\n",
    "    \n",
    "    tokens = tokens_gr + tokens_fr    \n",
    "    print(Counter(tokens).most_common(15), tokens_user)\n",
    "    "
   ]
  },
  {
   "cell_type": "code",
   "execution_count": 273,
   "metadata": {
    "collapsed": false
   },
   "outputs": [
    {
     "name": "stdout",
     "output_type": "stream",
     "text": [
      "[('игр', 13), ('dot', 12), ('футбол', 11), ('математик', 8), ('музык', 8), ('футбольн', 7), ('москв', 6), ('цска', 6), ('факт', 6), ('подслуша', 5), ('спорт', 5), ('обзор', 5), ('русск', 4), ('физик', 4), ('физтех', 4)] []\n"
     ]
    }
   ],
   "source": [
    "predict_interests('38506495')"
   ]
  },
  {
   "cell_type": "markdown",
   "metadata": {},
   "source": [
    "## Предсказание вуза. "
   ]
  },
  {
   "cell_type": "markdown",
   "metadata": {},
   "source": [
    "Будем рассматривать друзей, у которых возраст +- 4 года от  возраста нашего пользователя"
   ]
  },
  {
   "cell_type": "code",
   "execution_count": 288,
   "metadata": {
    "collapsed": false
   },
   "outputs": [],
   "source": [
    "def predict_bdate_w_pr (unknow_id):\n",
    "    count = 0\n",
    "    feature = []\n",
    "    res = api.users.get(user_id = unknow_id, fields = f_interest)    \n",
    "    res_year = extract_data(res[0])\n",
    "    if res_year: \n",
    "        return res_year\n",
    "   \n",
    "    friends = api.friends.get(user_id = unknow_id, order = 'hist', fields = f_interest)\n",
    "    bdata = []\n",
    "    year = []\n",
    "    for i in range(0, len(friends)):\n",
    "        y = extract_data(friends[i])\n",
    "        if y: year.append(y)      \n",
    "    year_f = min(stat.median(year), Counter(year).most_common(1)[0][0])\n",
    "    year_t = max(stat.median(year), Counter(year).most_common(1)[0][0])\n",
    "\n",
    "    return (year_f + year_t)/2"
   ]
  },
  {
   "cell_type": "code",
   "execution_count": 289,
   "metadata": {
    "collapsed": false
   },
   "outputs": [],
   "source": [
    "def predict_universiry(unknow_id):\n",
    "    res = api.users.get(user_id = unknow_id, fields = f_interest)\n",
    "    if 'deactivated' in res[0]:\n",
    "        return 0\n",
    "    res_bdate = predict_bdate_w_pr(unknow_id)\n",
    "    #print(res_bdate, 'data')\n",
    "    friends = api.friends.get(user_id = unknow_id, order = 'hist', fields = f_interest)\n",
    "    data_univ = []\n",
    "    #print(len(friends))\n",
    "    if 'universities' in res[0] and 'id' in res[0]['universities'][0]:\n",
    "        res_univ = res[0]['universities'][0]['id']    \n",
    "    for i in range(0, len(friends)):\n",
    "        if 'universities' in friends[i]:\n",
    "            if(len(friends[i]['universities']) >= 1):\n",
    "                #print(predict_bdate(friends[i]['user_id']))\n",
    "                if(np.abs(predict_bdate_w_pr(friends[i]['user_id'])  - res_bdate) <= 4):\n",
    "                    data_univ.append(friends[i]['universities'][0]['name'])\n",
    "    #print(data_univ)\n",
    "    return(Counter(data_univ).most_common(5))\n",
    "    \n",
    "            \n",
    "    "
   ]
  },
  {
   "cell_type": "code",
   "execution_count": 290,
   "metadata": {
    "collapsed": false
   },
   "outputs": [
    {
     "data": {
      "text/plain": [
       "[('МФТИ (ГУ)', 16),\n",
       " ('НИУ ВШЭ (ГУ-ВШЭ)', 8),\n",
       " ('МГУ', 4),\n",
       " ('ХНУ им. В. Н. Каразина (бывш. ХГУ им. Горького)', 2),\n",
       " ('הטכניון (Technion – IIT)', 1)]"
      ]
     },
     "execution_count": 290,
     "metadata": {},
     "output_type": "execute_result"
    }
   ],
   "source": [
    "predict_universiry('38506495')"
   ]
  }
 ],
 "metadata": {
  "anaconda-cloud": {},
  "kernelspec": {
   "display_name": "Python [default]",
   "language": "python",
   "name": "python3"
  },
  "language_info": {
   "codemirror_mode": {
    "name": "ipython",
    "version": 3
   },
   "file_extension": ".py",
   "mimetype": "text/x-python",
   "name": "python",
   "nbconvert_exporter": "python",
   "pygments_lexer": "ipython3",
   "version": "3.5.2"
  }
 },
 "nbformat": 4,
 "nbformat_minor": 0
}
